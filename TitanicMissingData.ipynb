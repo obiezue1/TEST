{
  "nbformat": 4,
  "nbformat_minor": 0,
  "metadata": {
    "colab": {
      "name": "TitanicMissingData.ipynb",
      "provenance": [],
      "include_colab_link": true
    },
    "kernelspec": {
      "name": "python3",
      "display_name": "Python 3"
    },
    "language_info": {
      "name": "python"
    }
  },
  "cells": [
    {
      "cell_type": "markdown",
      "metadata": {
        "id": "view-in-github",
        "colab_type": "text"
      },
      "source": [
        "<a href=\"https://colab.research.google.com/github/obiezue1/TEST/blob/main/TitanicMissingData.ipynb\" target=\"_parent\"><img src=\"https://colab.research.google.com/assets/colab-badge.svg\" alt=\"Open In Colab\"/></a>"
      ]
    },
    {
      "cell_type": "markdown",
      "source": [
        "#Titanic Data Science Solution"
      ],
      "metadata": {
        "id": "tTpLOHss24-h"
      }
    },
    {
      "cell_type": "markdown",
      "source": [
        "#### On April 15, 1912, during her maiden voyage, the Titanic sank after colliding with an iceberg, killing 1502 out of 2224 passengers and crew. Translated 32% survival rate.\n",
        "#### One of the reasons that the shipwreck led to such loss of life was that there were not enough lifeboats for the passengers and crew.\n",
        "#### Although there was some element of luck involved in surviving the sinking, some groups of people were more likely to survive than others, such as women, children, and the upper-class."
      ],
      "metadata": {
        "id": "yON-W3wx1jyu"
      }
    },
    {
      "cell_type": "code",
      "source": [
        "#pip install datawig"
      ],
      "metadata": {
        "id": "utw21livvlsB"
      },
      "execution_count": 1,
      "outputs": []
    },
    {
      "cell_type": "code",
      "execution_count": null,
      "metadata": {
        "id": "0_4LmCq1tjyf"
      },
      "outputs": [],
      "source": [
        "import pandas as pd\n",
        "from sklearn.linear_model import  LinearRegression\n",
        "import datawig\n",
        "import numpy as np"
      ]
    },
    {
      "cell_type": "code",
      "source": [
        "data = pd.read_csv(\"train.csv\")"
      ],
      "metadata": {
        "id": "Fqd4GCMzwBEq"
      },
      "execution_count": null,
      "outputs": []
    },
    {
      "cell_type": "code",
      "source": [
        "##Deleting Rows with Missing Values"
      ],
      "metadata": {
        "id": "jXzLWam2wKCT"
      },
      "execution_count": null,
      "outputs": []
    },
    {
      "cell_type": "code",
      "source": [
        "print(data.isna().sum())\n",
        "print(data.shape)"
      ],
      "metadata": {
        "colab": {
          "base_uri": "https://localhost:8080/"
        },
        "id": "rZXJ0SslwctI",
        "outputId": "780c8cfc-b19d-4ebe-a61e-cf725749217a"
      },
      "execution_count": null,
      "outputs": [
        {
          "output_type": "stream",
          "name": "stdout",
          "text": [
            "PassengerId      0\n",
            "Survived         0\n",
            "Pclass           0\n",
            "Name             0\n",
            "Sex              0\n",
            "Age            177\n",
            "SibSp            0\n",
            "Parch            0\n",
            "Ticket           0\n",
            "Fare             0\n",
            "Cabin          687\n",
            "Embarked         2\n",
            "dtype: int64\n",
            "(891, 12)\n"
          ]
        }
      ]
    },
    {
      "cell_type": "code",
      "source": [
        "data.dropna(inplace=True)\n",
        "print(data.isna().sum())\n",
        "print(data.shape)"
      ],
      "metadata": {
        "colab": {
          "base_uri": "https://localhost:8080/"
        },
        "id": "2UZA8ZYkwvOR",
        "outputId": "35fd4a72-ccc7-4b65-9dfa-46fcc8524acf"
      },
      "execution_count": null,
      "outputs": [
        {
          "output_type": "stream",
          "name": "stdout",
          "text": [
            "PassengerId    0\n",
            "Survived       0\n",
            "Pclass         0\n",
            "Name           0\n",
            "Sex            0\n",
            "Age            0\n",
            "SibSp          0\n",
            "Parch          0\n",
            "Ticket         0\n",
            "Fare           0\n",
            "Cabin          0\n",
            "Embarked       0\n",
            "dtype: int64\n",
            "(183, 12)\n"
          ]
        }
      ]
    },
    {
      "cell_type": "markdown",
      "source": [
        "## Impute missing values with mean or median"
      ],
      "metadata": {
        "id": "-6XezNlBySpQ"
      }
    },
    {
      "cell_type": "code",
      "source": [
        "data = pd.read_csv(\"train.csv\")"
      ],
      "metadata": {
        "id": "inIyifuqydvo"
      },
      "execution_count": null,
      "outputs": []
    },
    {
      "cell_type": "code",
      "source": [
        "data[\"Age\"][:20]"
      ],
      "metadata": {
        "colab": {
          "base_uri": "https://localhost:8080/"
        },
        "id": "-7Kwu2JMxzyR",
        "outputId": "88cc98b8-501c-42eb-c853-90db92336d10"
      },
      "execution_count": null,
      "outputs": [
        {
          "output_type": "execute_result",
          "data": {
            "text/plain": [
              "0     22.0\n",
              "1     38.0\n",
              "2     26.0\n",
              "3     35.0\n",
              "4     35.0\n",
              "5      NaN\n",
              "6     54.0\n",
              "7      2.0\n",
              "8     27.0\n",
              "9     14.0\n",
              "10     4.0\n",
              "11    58.0\n",
              "12    20.0\n",
              "13    39.0\n",
              "14    14.0\n",
              "15    55.0\n",
              "16     2.0\n",
              "17     NaN\n",
              "18    31.0\n",
              "19     NaN\n",
              "Name: Age, dtype: float64"
            ]
          },
          "metadata": {},
          "execution_count": 11
        }
      ]
    },
    {
      "cell_type": "code",
      "source": [
        "data[\"Age\"] = data[\"Age\"].replace(np.NaN, data[\"Age\"].mean())\n",
        "print(data[\"Age\"][:20])"
      ],
      "metadata": {
        "colab": {
          "base_uri": "https://localhost:8080/"
        },
        "id": "QimMk5KDyj1A",
        "outputId": "dfa60f55-e0ac-4bf9-80dd-3d2fccbe3183"
      },
      "execution_count": null,
      "outputs": [
        {
          "output_type": "stream",
          "name": "stdout",
          "text": [
            "0     22.000000\n",
            "1     38.000000\n",
            "2     26.000000\n",
            "3     35.000000\n",
            "4     35.000000\n",
            "5     29.699118\n",
            "6     54.000000\n",
            "7      2.000000\n",
            "8     27.000000\n",
            "9     14.000000\n",
            "10     4.000000\n",
            "11    58.000000\n",
            "12    20.000000\n",
            "13    39.000000\n",
            "14    14.000000\n",
            "15    55.000000\n",
            "16     2.000000\n",
            "17    29.699118\n",
            "18    31.000000\n",
            "19    29.699118\n",
            "Name: Age, dtype: float64\n"
          ]
        }
      ]
    },
    {
      "cell_type": "markdown",
      "source": [
        "## Imputation method for categorical columns"
      ],
      "metadata": {
        "id": "zffeQj1Czd-E"
      }
    },
    {
      "cell_type": "code",
      "source": [
        "#data = pd.read_csv(\"train.csv\")"
      ],
      "metadata": {
        "id": "3NMP4O8AzkEs"
      },
      "execution_count": null,
      "outputs": []
    },
    {
      "cell_type": "code",
      "source": [
        "data.isna().sum()"
      ],
      "metadata": {
        "colab": {
          "base_uri": "https://localhost:8080/"
        },
        "id": "DUp0F7oQzC72",
        "outputId": "1eda7dcd-a15e-40bc-97c9-7820374929e5"
      },
      "execution_count": null,
      "outputs": [
        {
          "output_type": "execute_result",
          "data": {
            "text/plain": [
              "PassengerId      0\n",
              "Survived         0\n",
              "Pclass           0\n",
              "Name             0\n",
              "Sex              0\n",
              "Age              0\n",
              "SibSp            0\n",
              "Parch            0\n",
              "Ticket           0\n",
              "Fare             0\n",
              "Cabin          687\n",
              "Embarked         2\n",
              "dtype: int64"
            ]
          },
          "metadata": {},
          "execution_count": 18
        }
      ]
    },
    {
      "cell_type": "code",
      "source": [
        "data[\"Cabin\"] = data[\"Cabin\"].fillna('u')"
      ],
      "metadata": {
        "id": "76gyW7dMz_ab"
      },
      "execution_count": null,
      "outputs": []
    },
    {
      "cell_type": "code",
      "source": [
        "data.isna().sum()"
      ],
      "metadata": {
        "colab": {
          "base_uri": "https://localhost:8080/"
        },
        "id": "nRmJOzSU0acm",
        "outputId": "96427340-9c65-4f94-8c4e-c64a0746a8f8"
      },
      "execution_count": null,
      "outputs": [
        {
          "output_type": "execute_result",
          "data": {
            "text/plain": [
              "PassengerId    0\n",
              "Survived       0\n",
              "Pclass         0\n",
              "Name           0\n",
              "Sex            0\n",
              "Age            0\n",
              "SibSp          0\n",
              "Parch          0\n",
              "Ticket         0\n",
              "Fare           0\n",
              "Cabin          0\n",
              "Embarked       2\n",
              "dtype: int64"
            ]
          },
          "metadata": {},
          "execution_count": 20
        }
      ]
    },
    {
      "cell_type": "markdown",
      "source": [
        "## Use the last valid observation to fill the missing value"
      ],
      "metadata": {
        "id": "3Aj1oSH01P6Y"
      }
    },
    {
      "cell_type": "code",
      "source": [
        "data = pd.read_csv(\"train.csv\")"
      ],
      "metadata": {
        "id": "Pv8xortp1aMg"
      },
      "execution_count": null,
      "outputs": []
    },
    {
      "cell_type": "code",
      "source": [
        "data[\"Age\"] = data[\"Age\"].fillna(method='ffill')"
      ],
      "metadata": {
        "id": "k1nn06xn1XlT"
      },
      "execution_count": null,
      "outputs": []
    },
    {
      "cell_type": "markdown",
      "source": [
        "## For the time-series dataset variable, it makes sense to use the INTERPOLATION of the variable beofre and after a timestamp for a missing value"
      ],
      "metadata": {
        "id": "x5dgTRbK1-2k"
      }
    },
    {
      "cell_type": "code",
      "source": [
        "data[\"Age\"] = data[\"Age\"].interpolate(method='linear', limit_direction='forward', axis=0)"
      ],
      "metadata": {
        "id": "ySqbK1a32QLm"
      },
      "execution_count": null,
      "outputs": []
    },
    {
      "cell_type": "markdown",
      "source": [
        "## Use Algorithms that Support Missing Values:\n",
        "## kNN\n",
        "## RandomForest"
      ],
      "metadata": {
        "id": "55Wm6ciV2iw-"
      }
    },
    {
      "cell_type": "markdown",
      "source": [
        "## 4 Make Prediction of Missing Values"
      ],
      "metadata": {
        "id": "4ZH780pf3N6Z"
      }
    },
    {
      "cell_type": "code",
      "source": [
        "data = pd.read_csv(\"train.csv\")\n",
        "data = data[[\"Survived\", \"Sex\", \"SibSp\", \"Parch\", \"Fare\", \"Age\"]]"
      ],
      "metadata": {
        "id": "0z201DfV2u4s"
      },
      "execution_count": null,
      "outputs": []
    },
    {
      "cell_type": "code",
      "source": [
        "data[\"Sex\"] = [1 if x==\"male\" else 0 for x in data[\"Sex\"]]"
      ],
      "metadata": {
        "id": "XoGZT_1W4H8o"
      },
      "execution_count": null,
      "outputs": []
    },
    {
      "cell_type": "code",
      "source": [
        "test_data = data[data[\"Age\"].isnull()]"
      ],
      "metadata": {
        "id": "e9kfAYDa4hJj"
      },
      "execution_count": null,
      "outputs": []
    },
    {
      "cell_type": "code",
      "source": [
        "data.dropna(inplace=True)"
      ],
      "metadata": {
        "id": "d2eCOxfU4xEp"
      },
      "execution_count": null,
      "outputs": []
    },
    {
      "cell_type": "code",
      "source": [
        "y_train = data[\"Age\"]\n",
        "X_train = data.drop(\"Age\", axis=1)\n",
        "X_test = test_data.drop(\"Age\", axis=1)"
      ],
      "metadata": {
        "id": "PhQydrYX5GlM"
      },
      "execution_count": null,
      "outputs": []
    },
    {
      "cell_type": "code",
      "source": [
        "model = LinearRegression()\n",
        "model.fit(X_train, y_train)"
      ],
      "metadata": {
        "colab": {
          "base_uri": "https://localhost:8080/"
        },
        "id": "dQhDknsW5icx",
        "outputId": "2d262272-43c7-41ad-fe10-d35642087bd6"
      },
      "execution_count": null,
      "outputs": [
        {
          "output_type": "execute_result",
          "data": {
            "text/plain": [
              "LinearRegression(copy_X=True, fit_intercept=True, n_jobs=None, normalize=False)"
            ]
          },
          "metadata": {},
          "execution_count": 31
        }
      ]
    },
    {
      "cell_type": "code",
      "source": [
        "y_pred = model.predict(X_test)"
      ],
      "metadata": {
        "id": "ekYX9gp55sS-"
      },
      "execution_count": null,
      "outputs": []
    }
  ]
}